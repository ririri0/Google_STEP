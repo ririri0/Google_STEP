{
 "cells": [
  {
   "cell_type": "code",
   "execution_count": 1,
   "metadata": {},
   "outputs": [],
   "source": [
    "def ReadPages(pages):\n",
    "    with open('data/pages.txt') as f:\n",
    "        for data in f.read().splitlines():\n",
    "            page = data.split('\\t')\n",
    "            # page[0]: id, page[1]: title\n",
    "            pages[page[0]] = {'title': page[1], 'score': 100}\n",
    "\n",
    "\n",
    "def ReadLinks(links):\n",
    "    with open('data/links.txt') as f:\n",
    "        for data in f.read().splitlines():\n",
    "            link = data.split('\\t')\n",
    "            # link[0]: id (from), links[1]: id (to)\n",
    "            if link[0] in links:\n",
    "                links[link[0]].add(link[1])\n",
    "            else:\n",
    "                links[link[0]] = {link[1]}\n",
    "\n",
    "\n",
    "def AddScore(pages, links, score_list):\n",
    "    new_score_list = {}\n",
    "    for id in pages:\n",
    "        if id in links:\n",
    "            add_score = score_list[id] / len(links[id])\n",
    "            for each_id in links[id]:\n",
    "                if each_id in new_score_list:\n",
    "                    new_score_list[each_id] += add_score\n",
    "                else:\n",
    "                    new_score_list[each_id] = add_score\n",
    "    # No Link Pages\n",
    "    for id in pages:\n",
    "        if id not in new_score_list:\n",
    "            new_score_list[id] = 0\n",
    "    return new_score_list\n",
    "\n",
    "\n",
    "def InitScoreList(score_list, pages, init_score):\n",
    "    for id in pages:\n",
    "        score_list[id] = init_score\n",
    "\n",
    "\n",
    "def PageRank(pages, links, times, init_score):\n",
    "    # Initialize\n",
    "    score_list = {}\n",
    "    InitScoreList(score_list, pages, init_score)\n",
    "\n",
    "    # Calculation\n",
    "    for count in range(times):\n",
    "        score_list = AddScore(pages, links, score_list)\n",
    "    return score_list\n",
    "\n",
    "\n",
    "def PrintPageRank(result, pages, output_count):\n",
    "    result_sorted = sorted(result.items(), key=lambda x: x[1], reverse=True)\n",
    "    if output_count == 'ALL':\n",
    "        output_count = len(result_sorted)\n",
    "    else:\n",
    "        output_count = int(output_count)\n",
    "        print(\"\\nRanking, ID, Title, Score\")\n",
    "        count = 1\n",
    "        for id, score in result_sorted:\n",
    "            print('{0}, {1}, {2}, {3:.3f}, '.format(\n",
    "                count, id, pages[id]['title'], score))\n",
    "            if count == output_count:\n",
    "                break\n",
    "            count += 1\n",
    "\n",
    "\n",
    "if __name__ == '__main__':\n",
    "    pages = {}\n",
    "    links = {}\n",
    "    ReadPages(pages)\n",
    "    ReadLinks(links)"
   ]
  },
  {
   "cell_type": "code",
   "execution_count": 2,
   "metadata": {},
   "outputs": [
    {
     "name": "stdout",
     "output_type": "stream",
     "text": [
      "\n",
      "Ranking, ID, Title, Score\n",
      "1, 927119, 日本, 751625.392, \n",
      "2, 851077, アメリカ合衆国, 370940.555, \n",
      "3, 2245, 英語, 305012.100, \n",
      "4, 1038457, 地理座標系, 261578.945, \n",
      "5, 409713, 東京都, 232939.048, \n",
      "6, 1307, 俳優, 135950.765, \n",
      "7, 851107, イギリス, 134006.473, \n",
      "8, 215164, インターネット・ムービー・データベース, 128965.855, \n",
      "9, 6138, レコードレーベル, 117482.136, \n",
      "10, 851093, フランス, 114324.088, \n",
      "11, 718884, 学校, 112745.369, \n",
      "12, 3525, ポピュラー音楽のジャンル一覧, 110004.684, \n",
      "13, 16203, 企業, 108650.290, \n",
      "14, 5007, 会社, 102055.762, \n",
      "15, 53269, 公立学校, 99358.288, \n",
      "16, 851096, ドイツ, 99351.137, \n",
      "17, 2882, 道路, 96849.430, \n",
      "18, 197, 北海道, 95043.516, \n",
      "19, 123166, 男女共学, 94168.823, \n",
      "20, 215511, 大阪府, 93919.281, \n"
     ]
    }
   ],
   "source": [
    "# Times 1\n",
    "result = PageRank(pages, links, 1, 100)\n",
    "PrintPageRank(result, pages, 20)"
   ]
  },
  {
   "cell_type": "code",
   "execution_count": 3,
   "metadata": {},
   "outputs": [
    {
     "name": "stdout",
     "output_type": "stream",
     "text": [
      "\n",
      "Ranking, ID, Title, Score\n",
      "1, 927119, 日本, 527780.690, \n",
      "2, 2245, 英語, 419194.991, \n",
      "3, 851077, アメリカ合衆国, 378940.508, \n",
      "4, 409713, 東京都, 198602.966, \n",
      "5, 1038457, 地理座標系, 190271.819, \n",
      "6, 851107, イギリス, 167406.757, \n",
      "7, 851093, フランス, 138027.528, \n",
      "8, 2882, 道路, 128992.477, \n",
      "9, 851096, ドイツ, 124095.874, \n",
      "10, 13119, 都道府県道, 121322.753, \n",
      "11, 25872, Portable_Document_Format, 106119.542, \n",
      "12, 1236579, 第二次世界大戦, 105607.775, \n",
      "13, 197, 北海道, 98534.479, \n",
      "14, 5007, 会社, 95867.249, \n",
      "15, 1244, 中華人民共和国, 90101.021, \n",
      "16, 2244, イタリア, 89382.857, \n",
      "17, 718884, 学校, 86327.630, \n",
      "18, 16203, 企業, 83810.885, \n",
      "19, 2156, 業種, 82909.947, \n",
      "20, 53269, 公立学校, 82584.728, \n"
     ]
    }
   ],
   "source": [
    "# Times 2\n",
    "result = PageRank(pages, links, 2, 100)\n",
    "PrintPageRank(result, pages, 20)"
   ]
  },
  {
   "cell_type": "code",
   "execution_count": 4,
   "metadata": {},
   "outputs": [
    {
     "name": "stdout",
     "output_type": "stream",
     "text": [
      "\n",
      "Ranking, ID, Title, Score\n",
      "1, 927119, 日本, 439021.978, \n",
      "2, 2245, 英語, 404326.541, \n",
      "3, 851077, アメリカ合衆国, 280440.349, \n",
      "4, 851107, イギリス, 150681.841, \n",
      "5, 409713, 東京都, 146577.902, \n",
      "6, 851093, フランス, 124098.357, \n",
      "7, 1038457, 地理座標系, 112022.532, \n",
      "8, 3385, ウィクショナリー, 108505.645, \n",
      "9, 851096, ドイツ, 107737.520, \n",
      "10, 25872, Portable_Document_Format, 93180.907, \n",
      "11, 1236579, 第二次世界大戦, 91298.958, \n",
      "12, 1244, 中華人民共和国, 87206.163, \n",
      "13, 2, 日本語, 79667.158, \n",
      "14, 8, ヨーロッパ, 77212.490, \n",
      "15, 2244, イタリア, 76390.871, \n",
      "16, 1786, 江戸時代, 73570.035, \n",
      "17, 2579, ドイツ語, 71881.485, \n",
      "18, 197, 北海道, 70486.526, \n",
      "19, 37, フランス語, 70105.685, \n",
      "20, 215457, 大韓民国, 68417.634, \n"
     ]
    }
   ],
   "source": [
    "# Times 5\n",
    "result = PageRank(pages, links, 5, 100)\n",
    "PrintPageRank(result, pages, 20)"
   ]
  },
  {
   "cell_type": "code",
   "execution_count": 5,
   "metadata": {},
   "outputs": [
    {
     "name": "stdout",
     "output_type": "stream",
     "text": [
      "\n",
      "Ranking, ID, Title, Score\n",
      "1, 2245, 英語, 442325.629, \n",
      "2, 927119, 日本, 404780.026, \n",
      "3, 851077, アメリカ合衆国, 265848.361, \n",
      "4, 851107, イギリス, 150339.639, \n",
      "5, 409713, 東京都, 133461.766, \n",
      "6, 851093, フランス, 124972.178, \n",
      "7, 3385, ウィクショナリー, 122947.243, \n",
      "8, 851096, ドイツ, 108321.500, \n",
      "9, 1038457, 地理座標系, 100691.185, \n",
      "10, 25872, Portable_Document_Format, 91019.035, \n",
      "11, 1236579, 第二次世界大戦, 89399.185, \n",
      "12, 1244, 中華人民共和国, 88669.392, \n",
      "13, 2, 日本語, 85983.624, \n",
      "14, 2579, ドイツ語, 80707.987, \n",
      "15, 8, ヨーロッパ, 80341.144, \n",
      "16, 4353, ラテン語, 76697.901, \n",
      "17, 37, フランス語, 75085.933, \n",
      "18, 1786, 江戸時代, 74047.178, \n",
      "19, 2244, イタリア, 73756.609, \n",
      "20, 215457, 大韓民国, 64729.509, \n"
     ]
    }
   ],
   "source": [
    "# Times 10\n",
    "result = PageRank(pages, links, 10, 100)\n",
    "PrintPageRank(result, pages, 20)"
   ]
  },
  {
   "cell_type": "code",
   "execution_count": 6,
   "metadata": {},
   "outputs": [
    {
     "name": "stdout",
     "output_type": "stream",
     "text": [
      "\n",
      "Ranking, ID, Title, Score\n",
      "1, 2245, 英語, 467098.453, \n",
      "2, 927119, 日本, 381932.575, \n",
      "3, 851077, アメリカ合衆国, 258178.139, \n",
      "4, 851107, イギリス, 150336.322, \n",
      "5, 3385, ウィクショナリー, 129600.423, \n",
      "6, 851093, フランス, 125509.030, \n",
      "7, 409713, 東京都, 123569.226, \n",
      "8, 851096, ドイツ, 109510.288, \n",
      "9, 1038457, 地理座標系, 94968.366, \n",
      "10, 2, 日本語, 90667.913, \n",
      "11, 1244, 中華人民共和国, 90119.644, \n",
      "12, 25872, Portable_Document_Format, 89139.248, \n",
      "13, 1236579, 第二次世界大戦, 88780.696, \n",
      "14, 2579, ドイツ語, 86345.726, \n",
      "15, 4353, ラテン語, 83448.624, \n",
      "16, 8, ヨーロッパ, 81530.821, \n",
      "17, 37, フランス語, 78182.919, \n",
      "18, 1786, 江戸時代, 74338.707, \n",
      "19, 2244, イタリア, 72167.495, \n",
      "20, 2781, ISBN, 69374.552, \n"
     ]
    }
   ],
   "source": [
    "# Times 20\n",
    "result = PageRank(pages, links, 20, 100)\n",
    "PrintPageRank(result, pages, 20)"
   ]
  },
  {
   "cell_type": "code",
   "execution_count": null,
   "metadata": {},
   "outputs": [],
   "source": []
  }
 ],
 "metadata": {
  "kernelspec": {
   "display_name": "Python 3",
   "language": "python",
   "name": "python3"
  },
  "language_info": {
   "codemirror_mode": {
    "name": "ipython",
    "version": 3
   },
   "file_extension": ".py",
   "mimetype": "text/x-python",
   "name": "python",
   "nbconvert_exporter": "python",
   "pygments_lexer": "ipython3",
   "version": "3.7.4"
  }
 },
 "nbformat": 4,
 "nbformat_minor": 2
}
